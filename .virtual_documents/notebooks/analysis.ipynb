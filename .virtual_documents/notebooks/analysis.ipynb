


import pandas as pd, numpy as np, matplotlib.pyplot as plt, imageio, os
DATA_IDLE = os.path.join('..','data','sample','demo_idle_60s.csv')
DATA_WORK = os.path.join('..','data','sample','demo_work_60s.csv')
grid_gco2_per_kwh = 400.0  # configurable
df_idle = pd.read_csv(DATA_IDLE)
df_work = pd.read_csv(DATA_WORK)
df = pd.concat([df_idle, df_work], ignore_index=True)
for col in ['soc_power_w','gpu_power_w','cmd_vel_speed']:
    if col in df:
        df[col] = pd.to_numeric(df[col], errors='coerce')
df['time_s'] = pd.to_datetime(df['timestamp'], errors='coerce').astype('datetime64[ns]').astype('int64')/1e9
df['time_s'] = df.groupby('policy_name')['time_s'].transform(lambda x: x - x.min())
df.head()





def energy_wh(group: pd.DataFrame) -> float:
    power = group['soc_power_w'] if group['soc_power_w'].notna().any() else group['gpu_power_w']
    t = group['time_s']
    wh = np.trapz(y=power.fillna(method='ffill').fillna(method='bfill'), x=t) / 3600.0
    return float(wh)

agg = df.groupby('policy_name').apply(energy_wh).rename('Wh').reset_index()
agg['gCO2'] = (agg['Wh']/1000.0)*grid_gco2_per_kwh
agg


# Bar chart
fig1 = plt.figure(figsize=(5,3))
plt.bar(agg['policy_name'], agg['Wh'])
plt.ylabel('Energy (Wh)')
plt.title('REB-1 Energy per Policy')
png_out = 'fig_energy_bars.png'
plt.tight_layout()
plt.savefig(png_out, dpi=150)
png_out


# Watts vs time overlay with optional cmd_vel
fig2 = plt.figure(figsize=(6,3))
for name, g in df.groupby('policy_name'):
    power = g['soc_power_w'] if g['soc_power_w'].notna().any() else g['gpu_power_w']
    plt.plot(g['time_s'], power, label=f'{name} watts')
plt.xlabel('Time (s)'); plt.ylabel('Watts'); plt.legend(loc='best'); plt.tight_layout()
plt.show()

# If cmd_vel_speed exists for any rows, overlay second plot
if df['cmd_vel_speed'].notna().any():
    fig3 = plt.figure(figsize=(6,3))
    for name, g in df.groupby('policy_name'):
        if g['cmd_vel_speed'].notna().any():
            plt.plot(g['time_s'], g['cmd_vel_speed'], label=f'{name} cmd_vel_speed')
    plt.xlabel('Time (s)'); plt.ylabel('Speed (m/s)'); plt.legend(loc='best'); plt.tight_layout(); plt.show()

# Tiny GIF (blink the bar chart)
frames = []
for scale in [1.0, 1.05, 1.0, 0.95, 1.0]:
    fig = plt.figure(figsize=(5,3))
    plt.bar(agg['policy_name'], agg['Wh']*scale)
    plt.ylabel('Energy (Wh)'); plt.title('REB-1 Energy per Policy')
    plt.tight_layout()
    tmp = f'_frame_{scale:.2f}.png'
    plt.savefig(tmp, dpi=150)
    frames.append(imageio.v2.imread(tmp))
imageio.mimsave('reb1_demo.gif', frames, duration=0.6)
'reb1_demo.gif'
